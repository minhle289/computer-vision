{
 "cells": [
  {
   "cell_type": "markdown",
   "metadata": {},
   "source": [
    "# CSC483 - Computer Vision\n",
    "## Project 5 - Writeup\n",
    "## Team: Minh Le and Jasmin Ramirez\n",
    "\n",
    "   We wrote the basic SIFT feature matching by closely following the project’s description and related papers’ guidance.\n",
    "\n",
    "   We first tried to speed up Harris detector for our interest point detection by eliminating as many for loops as possible and used numpy functions instead. One that greatly improved our accuracy was using np.linalg.norm(), which calculates our distance of two points. We tried scipy.spatial.distance.cdist first which worked faster but has lower accuracy. From this we were able to determine the smallest radius. Then we sorted the radii from largest to smallest. Each set of images seems to require a different optimal number of interest points. We discovered that 3,250 is the optimal number of interest points that maximizes the accuracy for Notre Dame (with points that are within 1% of max Rvals). For Mount Rushmore, we changed to 4,500 points within 5% max since it took too long to run if we kept the previous numbers. \n",
    "\n",
    "   Now that we had our interest points we calculated the gradient at each interest point by setting a 4x4 window. In this window we calculated the magnitudes and orientations. We built an eight bin histogram (not exactly sure how to explain this). Finally we normalized the feature vectors by raising each vector to 0.85, a suggested normalizing value. \n",
    "\n",
    "   To implement match_features we calculated the distance between the normalized vectors detected in get_features using cdist. Although euclidean distance is generally used, we found that the cityblock (i.e., Manhattan distance) improves our accuracy by a few percent. Once these values were calculated we sorted the numpy array from smallest to largest. Then we took the two closest descriptors and performed the ratio test. We realized the smaller the distance ratio the better the match. We also created a variable threshold set to value 0.8 which would indict whether or not two nearby points i and i+1 were separated enough. If not point i was not accounted for. We saved these values into a numpy array which we then sorted. \n",
    "   \n",
    "   We obtained 91% accuracy on Notre Dame images and 83% on Mount Rushmore."
   ]
  }
 ],
 "metadata": {
  "kernelspec": {
   "display_name": "Python 3",
   "language": "python",
   "name": "python3"
  },
  "language_info": {
   "codemirror_mode": {
    "name": "ipython",
    "version": 3
   },
   "file_extension": ".py",
   "mimetype": "text/x-python",
   "name": "python",
   "nbconvert_exporter": "python",
   "pygments_lexer": "ipython3",
   "version": "3.7.1"
  }
 },
 "nbformat": 4,
 "nbformat_minor": 2
}
