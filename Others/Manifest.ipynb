{
 "cells": [
  {
   "cell_type": "markdown",
   "metadata": {},
   "source": [
    "# Table of Contents\n",
    "Last updated: 10/24/19"
   ]
  },
  {
   "cell_type": "markdown",
   "metadata": {},
   "source": [
    "## Projects\n",
    "\n",
    "Here is a link to [Project 1](../project1)\n",
    "\n",
    "Here is a link to [Project 2](../project2)\n",
    "\n",
    "\n",
    "Here is a link to [Project 3](../project3)\n",
    "\n",
    "Here is a link to [Project 3B](../project3/Project3B.ipynb)\n",
    "*** I have fixed this part and would like to request some point-back\n",
    "\n",
    "\n",
    "Here is a link to [Project 4](../project4)\n",
    "\n",
    "Here is a link to [Project 5](../project-5)"
   ]
  },
  {
   "cell_type": "markdown",
   "metadata": {},
   "source": [
    "## Some other things I've done\n",
    "\n",
    "Here is a link to [Explore OpenCV](explore_opencv.ipynb)\n",
    "\n",
    "Here is a link to [Basic Shape Detection](basic_shape_detection.ipynb)\n",
    "\n",
    "Here is a link to [Face Detection](face_detection.ipynb)\n"
   ]
  },
  {
   "cell_type": "code",
   "execution_count": null,
   "metadata": {},
   "outputs": [],
   "source": []
  }
 ],
 "metadata": {
  "kernelspec": {
   "display_name": "Python 3",
   "language": "python",
   "name": "python3"
  },
  "language_info": {
   "codemirror_mode": {
    "name": "ipython",
    "version": 3
   },
   "file_extension": ".py",
   "mimetype": "text/x-python",
   "name": "python",
   "nbconvert_exporter": "python",
   "pygments_lexer": "ipython3",
   "version": "3.7.1"
  }
 },
 "nbformat": 4,
 "nbformat_minor": 2
}
