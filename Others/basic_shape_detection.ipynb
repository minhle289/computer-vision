{
 "cells": [
  {
   "cell_type": "markdown",
   "metadata": {},
   "source": [
    "# Shape detection using contours"
   ]
  },
  {
   "cell_type": "code",
   "execution_count": null,
   "metadata": {},
   "outputs": [],
   "source": [
    "import numpy as np\n",
    "import cv2\n",
    "import matplotlib.pyplot as plt\n",
    "\n",
    "# Turn image to gray scale \n",
    "img = cv2.imread('shape.png')\n",
    "img = cv2.cvtColor(img, cv2.COLOR_BGR2GRAY)\n",
    "\n",
    "# Apply threshold\n",
    "ret, thresh = cv2.threshold(img, 180, 255, cv2.THRESH_BINARY)\n",
    "\n",
    "# Find contours\n",
    "contours, hierarchy = cv2.findContours(thresh, cv2.RETR_TREE, cv2.CHAIN_APPROX_NONE)\n",
    "font = cv2.FONT_HERSHEY_SIMPLEX\n",
    "\n",
    "# Detect shapes\n",
    "for c in contours:\n",
    "\n",
    "    # Approximates a polygonal curve\n",
    "    poly = cv2.approxPolyDP(c, 0.01*cv2.arcLength(c,True),True)\n",
    "    drawn = cv2.drawContours(img, [c], 0, (0, 0, 0), 5)\n",
    "\n",
    "    # x, y for text\n",
    "    x = poly.ravel()[0]\n",
    "    y = poly.ravel()[1]\n",
    "    \n",
    "    # Triangle\n",
    "    if len(poly) == 3:\n",
    "        shape_name = \"Triangle\"\n",
    "        drawn = cv2.putText(drawn, \"Triangle\", (x, y), font, 1, (0, 0, 0))\n",
    "    \n",
    "    # Square or Rectangal\n",
    "    elif len(poly) == 4:\n",
    "        x1,y1,w,h = cv2.boundingRect(c) \n",
    "        \n",
    "        # Check square or rectangle\n",
    "        if abs(w-h) <= 3:            \n",
    "            drawn = cv2.putText(drawn, \"Triangle\", (x, y), font, 1, (0, 0, 0))\n",
    "            \n",
    "        else:            \n",
    "            drawn = cv2.putText(drawn, \"Triangle\", (x, y), font, 1, (0, 0, 0))\n",
    "     \n",
    "    elif len(poly) == 5:\n",
    "        drawn = cv2.putText(drawn, \"Pentagon\", (x, y), font, 1, (0, 0, 0))\n",
    "        \n",
    "    elif 5 < len(poly) < 15:\n",
    "        drawn = cv2.putText(drawn, \"Ellipse\", (x, y), font, 1, (0, 0, 0))\n",
    "        \n",
    "    elif len(poly) >= 15:\n",
    "        drawn = cv2.putText(drawn, \"Circle\", (x, y), font, 1, (0, 0, 0))   \n",
    "    \n",
    "    plt.figure(); plt.imshow(drawn, cmap=\"gray\")"
   ]
  },
  {
   "cell_type": "code",
   "execution_count": null,
   "metadata": {},
   "outputs": [],
   "source": []
  }
 ],
 "metadata": {
  "kernelspec": {
   "display_name": "Python 3",
   "language": "python",
   "name": "python3"
  },
  "language_info": {
   "codemirror_mode": {
    "name": "ipython",
    "version": 3
   },
   "file_extension": ".py",
   "mimetype": "text/x-python",
   "name": "python",
   "nbconvert_exporter": "python",
   "pygments_lexer": "ipython3",
   "version": "3.7.1"
  }
 },
 "nbformat": 4,
 "nbformat_minor": 2
}
